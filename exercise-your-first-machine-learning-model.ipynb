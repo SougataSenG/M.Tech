{
 "cells": [
  {
   "cell_type": "markdown",
   "id": "8510bb70",
   "metadata": {
    "papermill": {
     "duration": 0.009935,
     "end_time": "2024-11-13T15:51:17.040841",
     "exception": false,
     "start_time": "2024-11-13T15:51:17.030906",
     "status": "completed"
    },
    "tags": []
   },
   "source": [
    "**This notebook is an exercise in the [Introduction to Machine Learning](https://www.kaggle.com/learn/intro-to-machine-learning) course.  You can reference the tutorial at [this link](https://www.kaggle.com/dansbecker/your-first-machine-learning-model).**\n",
    "\n",
    "---\n"
   ]
  },
  {
   "cell_type": "markdown",
   "id": "47d9824b",
   "metadata": {
    "papermill": {
     "duration": 0.006255,
     "end_time": "2024-11-13T15:51:17.053653",
     "exception": false,
     "start_time": "2024-11-13T15:51:17.047398",
     "status": "completed"
    },
    "tags": []
   },
   "source": [
    "## Recap\n",
    "So far, you have loaded your data and reviewed it with the following code. Run this cell to set up your coding environment where the previous step left off."
   ]
  },
  {
   "cell_type": "code",
   "execution_count": 1,
   "id": "3d7e1c8b",
   "metadata": {
    "execution": {
     "iopub.execute_input": "2024-11-13T15:51:17.068407Z",
     "iopub.status.busy": "2024-11-13T15:51:17.067985Z",
     "iopub.status.idle": "2024-11-13T15:51:19.877896Z",
     "shell.execute_reply": "2024-11-13T15:51:19.876832Z"
    },
    "papermill": {
     "duration": 2.820602,
     "end_time": "2024-11-13T15:51:19.880682",
     "exception": false,
     "start_time": "2024-11-13T15:51:17.060080",
     "status": "completed"
    },
    "tags": []
   },
   "outputs": [
    {
     "name": "stdout",
     "output_type": "stream",
     "text": [
      "Setup Complete\n"
     ]
    }
   ],
   "source": [
    "# Code you have previously used to load data\n",
    "import pandas as pd\n",
    "\n",
    "# Path of the file to read\n",
    "iowa_file_path = '../input/home-data-for-ml-course/train.csv'\n",
    "\n",
    "home_data = pd.read_csv(iowa_file_path)\n",
    "\n",
    "# Set up code checking\n",
    "from learntools.core import binder\n",
    "binder.bind(globals())\n",
    "from learntools.machine_learning.ex3 import *\n",
    "\n",
    "print(\"Setup Complete\")"
   ]
  },
  {
   "cell_type": "markdown",
   "id": "0ff5cf51",
   "metadata": {
    "papermill": {
     "duration": 0.00637,
     "end_time": "2024-11-13T15:51:19.894314",
     "exception": false,
     "start_time": "2024-11-13T15:51:19.887944",
     "status": "completed"
    },
    "tags": []
   },
   "source": [
    "# Exercises\n",
    "\n",
    "## Step 1: Specify Prediction Target\n",
    "Select the target variable, which corresponds to the sales price. Save this to a new variable called `y`. You'll need to print a list of the columns to find the name of the column you need.\n"
   ]
  },
  {
   "cell_type": "code",
   "execution_count": 2,
   "id": "592dde25",
   "metadata": {
    "execution": {
     "iopub.execute_input": "2024-11-13T15:51:19.909772Z",
     "iopub.status.busy": "2024-11-13T15:51:19.909139Z",
     "iopub.status.idle": "2024-11-13T15:51:19.918526Z",
     "shell.execute_reply": "2024-11-13T15:51:19.917455Z"
    },
    "papermill": {
     "duration": 0.020051,
     "end_time": "2024-11-13T15:51:19.921026",
     "exception": false,
     "start_time": "2024-11-13T15:51:19.900975",
     "status": "completed"
    },
    "tags": []
   },
   "outputs": [
    {
     "data": {
      "text/plain": [
       "Index(['Id', 'MSSubClass', 'MSZoning', 'LotFrontage', 'LotArea', 'Street',\n",
       "       'Alley', 'LotShape', 'LandContour', 'Utilities', 'LotConfig',\n",
       "       'LandSlope', 'Neighborhood', 'Condition1', 'Condition2', 'BldgType',\n",
       "       'HouseStyle', 'OverallQual', 'OverallCond', 'YearBuilt', 'YearRemodAdd',\n",
       "       'RoofStyle', 'RoofMatl', 'Exterior1st', 'Exterior2nd', 'MasVnrType',\n",
       "       'MasVnrArea', 'ExterQual', 'ExterCond', 'Foundation', 'BsmtQual',\n",
       "       'BsmtCond', 'BsmtExposure', 'BsmtFinType1', 'BsmtFinSF1',\n",
       "       'BsmtFinType2', 'BsmtFinSF2', 'BsmtUnfSF', 'TotalBsmtSF', 'Heating',\n",
       "       'HeatingQC', 'CentralAir', 'Electrical', '1stFlrSF', '2ndFlrSF',\n",
       "       'LowQualFinSF', 'GrLivArea', 'BsmtFullBath', 'BsmtHalfBath', 'FullBath',\n",
       "       'HalfBath', 'BedroomAbvGr', 'KitchenAbvGr', 'KitchenQual',\n",
       "       'TotRmsAbvGrd', 'Functional', 'Fireplaces', 'FireplaceQu', 'GarageType',\n",
       "       'GarageYrBlt', 'GarageFinish', 'GarageCars', 'GarageArea', 'GarageQual',\n",
       "       'GarageCond', 'PavedDrive', 'WoodDeckSF', 'OpenPorchSF',\n",
       "       'EnclosedPorch', '3SsnPorch', 'ScreenPorch', 'PoolArea', 'PoolQC',\n",
       "       'Fence', 'MiscFeature', 'MiscVal', 'MoSold', 'YrSold', 'SaleType',\n",
       "       'SaleCondition', 'SalePrice'],\n",
       "      dtype='object')"
      ]
     },
     "execution_count": 2,
     "metadata": {},
     "output_type": "execute_result"
    }
   ],
   "source": [
    "# print the list of columns in the dataset to find the name of the prediction target\n",
    "home_data.columns"
   ]
  },
  {
   "cell_type": "code",
   "execution_count": 3,
   "id": "1aeab86c",
   "metadata": {
    "execution": {
     "iopub.execute_input": "2024-11-13T15:51:19.937447Z",
     "iopub.status.busy": "2024-11-13T15:51:19.936507Z",
     "iopub.status.idle": "2024-11-13T15:51:19.952166Z",
     "shell.execute_reply": "2024-11-13T15:51:19.951126Z"
    },
    "papermill": {
     "duration": 0.026598,
     "end_time": "2024-11-13T15:51:19.954651",
     "exception": false,
     "start_time": "2024-11-13T15:51:19.928053",
     "status": "completed"
    },
    "tags": []
   },
   "outputs": [
    {
     "data": {
      "application/javascript": [
       "parent.postMessage({\"jupyterEvent\": \"custom.exercise_interaction\", \"data\": {\"outcomeType\": 1, \"valueTowardsCompletion\": 0.25, \"interactionType\": 1, \"questionType\": 2, \"questionId\": \"1_SetTarget\", \"learnToolsVersion\": \"0.3.4\", \"failureMessage\": \"\", \"exceptionClass\": \"\", \"trace\": \"\"}}, \"*\")"
      ],
      "text/plain": [
       "<IPython.core.display.Javascript object>"
      ]
     },
     "metadata": {},
     "output_type": "display_data"
    },
    {
     "data": {
      "text/markdown": [
       "<span style=\"color:#33cc33\">Correct</span>"
      ],
      "text/plain": [
       "Correct"
      ]
     },
     "metadata": {},
     "output_type": "display_data"
    }
   ],
   "source": [
    "y = home_data['SalePrice']\n",
    "\n",
    "# Check your answer\n",
    "step_1.check()"
   ]
  },
  {
   "cell_type": "code",
   "execution_count": 4,
   "id": "68f0a44e",
   "metadata": {
    "collapsed": true,
    "execution": {
     "iopub.execute_input": "2024-11-13T15:51:19.972656Z",
     "iopub.status.busy": "2024-11-13T15:51:19.972204Z",
     "iopub.status.idle": "2024-11-13T15:51:19.976642Z",
     "shell.execute_reply": "2024-11-13T15:51:19.975620Z"
    },
    "jupyter": {
     "outputs_hidden": true
    },
    "papermill": {
     "duration": 0.015684,
     "end_time": "2024-11-13T15:51:19.979026",
     "exception": false,
     "start_time": "2024-11-13T15:51:19.963342",
     "status": "completed"
    },
    "tags": []
   },
   "outputs": [],
   "source": [
    "# The lines below will show you a hint or the solution.\n",
    "# step_1.hint() \n",
    "# step_1.solution()"
   ]
  },
  {
   "cell_type": "markdown",
   "id": "d0d03fa8",
   "metadata": {
    "papermill": {
     "duration": 0.007037,
     "end_time": "2024-11-13T15:51:19.993332",
     "exception": false,
     "start_time": "2024-11-13T15:51:19.986295",
     "status": "completed"
    },
    "tags": []
   },
   "source": [
    "## Step 2: Create X\n",
    "Now you will create a DataFrame called `X` holding the predictive features.\n",
    "\n",
    "Since you want only some columns from the original data, you'll first create a list with the names of the columns you want in `X`.\n",
    "\n",
    "You'll use just the following columns in the list (you can copy and paste the whole list to save some typing, though you'll still need to add quotes):\n",
    "  * LotArea\n",
    "  * YearBuilt\n",
    "  * 1stFlrSF\n",
    "  * 2ndFlrSF\n",
    "  * FullBath\n",
    "  * BedroomAbvGr\n",
    "  * TotRmsAbvGrd\n",
    "\n",
    "After you've created that list of features, use it to create the DataFrame that you'll use to fit the model."
   ]
  },
  {
   "cell_type": "code",
   "execution_count": 5,
   "id": "95aea06a",
   "metadata": {
    "execution": {
     "iopub.execute_input": "2024-11-13T15:51:20.009932Z",
     "iopub.status.busy": "2024-11-13T15:51:20.009504Z",
     "iopub.status.idle": "2024-11-13T15:51:20.024022Z",
     "shell.execute_reply": "2024-11-13T15:51:20.022780Z"
    },
    "papermill": {
     "duration": 0.025421,
     "end_time": "2024-11-13T15:51:20.026237",
     "exception": false,
     "start_time": "2024-11-13T15:51:20.000816",
     "status": "completed"
    },
    "tags": []
   },
   "outputs": [
    {
     "data": {
      "application/javascript": [
       "parent.postMessage({\"jupyterEvent\": \"custom.exercise_interaction\", \"data\": {\"outcomeType\": 1, \"valueTowardsCompletion\": 0.25, \"interactionType\": 1, \"questionType\": 2, \"questionId\": \"2_SelectPredictionData\", \"learnToolsVersion\": \"0.3.4\", \"failureMessage\": \"\", \"exceptionClass\": \"\", \"trace\": \"\"}}, \"*\")"
      ],
      "text/plain": [
       "<IPython.core.display.Javascript object>"
      ]
     },
     "metadata": {},
     "output_type": "display_data"
    },
    {
     "data": {
      "text/markdown": [
       "<span style=\"color:#33cc33\">Correct</span>"
      ],
      "text/plain": [
       "Correct"
      ]
     },
     "metadata": {},
     "output_type": "display_data"
    }
   ],
   "source": [
    "# Create the list of features below\n",
    "feature_names = ['LotArea', 'YearBuilt', '1stFlrSF', '2ndFlrSF', 'FullBath',\n",
    "                 'BedroomAbvGr', 'TotRmsAbvGrd']\n",
    "\n",
    "# Select data corresponding to features in feature_names\n",
    "X = home_data[feature_names]\n",
    "\n",
    "# Check your answer\n",
    "step_2.check()"
   ]
  },
  {
   "cell_type": "code",
   "execution_count": 6,
   "id": "63b98869",
   "metadata": {
    "collapsed": true,
    "execution": {
     "iopub.execute_input": "2024-11-13T15:51:20.043482Z",
     "iopub.status.busy": "2024-11-13T15:51:20.043056Z",
     "iopub.status.idle": "2024-11-13T15:51:20.047423Z",
     "shell.execute_reply": "2024-11-13T15:51:20.046415Z"
    },
    "jupyter": {
     "outputs_hidden": true
    },
    "papermill": {
     "duration": 0.015494,
     "end_time": "2024-11-13T15:51:20.049553",
     "exception": false,
     "start_time": "2024-11-13T15:51:20.034059",
     "status": "completed"
    },
    "tags": []
   },
   "outputs": [],
   "source": [
    "# step_2.hint()\n",
    "# step_2.solution()"
   ]
  },
  {
   "cell_type": "markdown",
   "id": "de44432b",
   "metadata": {
    "papermill": {
     "duration": 0.007657,
     "end_time": "2024-11-13T15:51:20.065064",
     "exception": false,
     "start_time": "2024-11-13T15:51:20.057407",
     "status": "completed"
    },
    "tags": []
   },
   "source": [
    "## Review Data\n",
    "Before building a model, take a quick look at **X** to verify it looks sensible"
   ]
  },
  {
   "cell_type": "code",
   "execution_count": 7,
   "id": "0d47adac",
   "metadata": {
    "execution": {
     "iopub.execute_input": "2024-11-13T15:51:20.083181Z",
     "iopub.status.busy": "2024-11-13T15:51:20.081947Z",
     "iopub.status.idle": "2024-11-13T15:51:20.093325Z",
     "shell.execute_reply": "2024-11-13T15:51:20.091887Z"
    },
    "papermill": {
     "duration": 0.022853,
     "end_time": "2024-11-13T15:51:20.095772",
     "exception": false,
     "start_time": "2024-11-13T15:51:20.072919",
     "status": "completed"
    },
    "tags": []
   },
   "outputs": [
    {
     "name": "stdout",
     "output_type": "stream",
     "text": [
      "   LotArea  YearBuilt  1stFlrSF  2ndFlrSF  FullBath  BedroomAbvGr  \\\n",
      "0     8450       2003       856       854         2             3   \n",
      "1     9600       1976      1262         0         2             3   \n",
      "2    11250       2001       920       866         2             3   \n",
      "3     9550       1915       961       756         1             3   \n",
      "4    14260       2000      1145      1053         2             4   \n",
      "\n",
      "   TotRmsAbvGrd  \n",
      "0             8  \n",
      "1             6  \n",
      "2             6  \n",
      "3             7  \n",
      "4             9  \n"
     ]
    }
   ],
   "source": [
    "# Review data\n",
    "# print description or statistics from X\n",
    "# print(X.describe())\n",
    "\n",
    "# print the top few lines\n",
    "print(X.head())"
   ]
  },
  {
   "cell_type": "markdown",
   "id": "c2b1f829",
   "metadata": {
    "papermill": {
     "duration": 0.007599,
     "end_time": "2024-11-13T15:51:20.111442",
     "exception": false,
     "start_time": "2024-11-13T15:51:20.103843",
     "status": "completed"
    },
    "tags": []
   },
   "source": [
    "## Step 3: Specify and Fit Model\n",
    "Create a `DecisionTreeRegressor` and save it iowa_model. Ensure you've done the relevant import from sklearn to run this command.\n",
    "\n",
    "Then fit the model you just created using the data in `X` and `y` that you saved above."
   ]
  },
  {
   "cell_type": "code",
   "execution_count": 8,
   "id": "5893f575",
   "metadata": {
    "execution": {
     "iopub.execute_input": "2024-11-13T15:51:20.129033Z",
     "iopub.status.busy": "2024-11-13T15:51:20.128605Z",
     "iopub.status.idle": "2024-11-13T15:51:20.150166Z",
     "shell.execute_reply": "2024-11-13T15:51:20.149084Z"
    },
    "papermill": {
     "duration": 0.03302,
     "end_time": "2024-11-13T15:51:20.152534",
     "exception": false,
     "start_time": "2024-11-13T15:51:20.119514",
     "status": "completed"
    },
    "tags": []
   },
   "outputs": [
    {
     "data": {
      "application/javascript": [
       "parent.postMessage({\"jupyterEvent\": \"custom.exercise_interaction\", \"data\": {\"outcomeType\": 1, \"valueTowardsCompletion\": 0.25, \"interactionType\": 1, \"questionType\": 2, \"questionId\": \"3_CreateModel\", \"learnToolsVersion\": \"0.3.4\", \"failureMessage\": \"\", \"exceptionClass\": \"\", \"trace\": \"\"}}, \"*\")"
      ],
      "text/plain": [
       "<IPython.core.display.Javascript object>"
      ]
     },
     "metadata": {},
     "output_type": "display_data"
    },
    {
     "data": {
      "text/markdown": [
       "<span style=\"color:#33cc33\">Correct</span>"
      ],
      "text/plain": [
       "Correct"
      ]
     },
     "metadata": {},
     "output_type": "display_data"
    }
   ],
   "source": [
    "from sklearn.tree import DecisionTreeRegressor#specify the model. \n",
    "#For model reproducibility, set a numeric value for random_state when specifying the model\n",
    "iowa_model = DecisionTreeRegressor(random_state=1)\n",
    "\n",
    "# Fit the model\n",
    "iowa_model.fit(X,y)\n",
    "\n",
    "# Check your answer\n",
    "step_3.check()"
   ]
  },
  {
   "cell_type": "code",
   "execution_count": 9,
   "id": "00ef081b",
   "metadata": {
    "collapsed": true,
    "execution": {
     "iopub.execute_input": "2024-11-13T15:51:20.170741Z",
     "iopub.status.busy": "2024-11-13T15:51:20.170273Z",
     "iopub.status.idle": "2024-11-13T15:51:20.174749Z",
     "shell.execute_reply": "2024-11-13T15:51:20.173679Z"
    },
    "jupyter": {
     "outputs_hidden": true
    },
    "papermill": {
     "duration": 0.016487,
     "end_time": "2024-11-13T15:51:20.177152",
     "exception": false,
     "start_time": "2024-11-13T15:51:20.160665",
     "status": "completed"
    },
    "tags": []
   },
   "outputs": [],
   "source": [
    "# step_3.hint()\n",
    "# step_3.solution()"
   ]
  },
  {
   "cell_type": "markdown",
   "id": "fea06135",
   "metadata": {
    "papermill": {
     "duration": 0.008052,
     "end_time": "2024-11-13T15:51:20.193489",
     "exception": false,
     "start_time": "2024-11-13T15:51:20.185437",
     "status": "completed"
    },
    "tags": []
   },
   "source": [
    "## Step 4: Make Predictions\n",
    "Make predictions with the model's `predict` command using `X` as the data. Save the results to a variable called `predictions`."
   ]
  },
  {
   "cell_type": "code",
   "execution_count": 10,
   "id": "01e4c1bc",
   "metadata": {
    "execution": {
     "iopub.execute_input": "2024-11-13T15:51:20.211848Z",
     "iopub.status.busy": "2024-11-13T15:51:20.210973Z",
     "iopub.status.idle": "2024-11-13T15:51:20.225936Z",
     "shell.execute_reply": "2024-11-13T15:51:20.224980Z"
    },
    "papermill": {
     "duration": 0.026769,
     "end_time": "2024-11-13T15:51:20.228275",
     "exception": false,
     "start_time": "2024-11-13T15:51:20.201506",
     "status": "completed"
    },
    "tags": []
   },
   "outputs": [
    {
     "name": "stdout",
     "output_type": "stream",
     "text": [
      "[208500. 181500. 223500. ... 266500. 142125. 147500.]\n"
     ]
    },
    {
     "data": {
      "application/javascript": [
       "parent.postMessage({\"jupyterEvent\": \"custom.exercise_interaction\", \"data\": {\"outcomeType\": 1, \"valueTowardsCompletion\": 0.25, \"interactionType\": 1, \"questionType\": 2, \"questionId\": \"4_MakePredictions\", \"learnToolsVersion\": \"0.3.4\", \"failureMessage\": \"\", \"exceptionClass\": \"\", \"trace\": \"\"}}, \"*\")"
      ],
      "text/plain": [
       "<IPython.core.display.Javascript object>"
      ]
     },
     "metadata": {},
     "output_type": "display_data"
    },
    {
     "data": {
      "text/markdown": [
       "<span style=\"color:#33cc33\">Correct</span>"
      ],
      "text/plain": [
       "Correct"
      ]
     },
     "metadata": {},
     "output_type": "display_data"
    }
   ],
   "source": [
    "predictions = iowa_model.predict(X)\n",
    "print(predictions)\n",
    "\n",
    "# Check your answer\n",
    "step_4.check()"
   ]
  },
  {
   "cell_type": "code",
   "execution_count": 11,
   "id": "026ac629",
   "metadata": {
    "collapsed": true,
    "execution": {
     "iopub.execute_input": "2024-11-13T15:51:20.247496Z",
     "iopub.status.busy": "2024-11-13T15:51:20.246597Z",
     "iopub.status.idle": "2024-11-13T15:51:20.251066Z",
     "shell.execute_reply": "2024-11-13T15:51:20.250056Z"
    },
    "jupyter": {
     "outputs_hidden": true
    },
    "papermill": {
     "duration": 0.016692,
     "end_time": "2024-11-13T15:51:20.253482",
     "exception": false,
     "start_time": "2024-11-13T15:51:20.236790",
     "status": "completed"
    },
    "tags": []
   },
   "outputs": [],
   "source": [
    "# step_4.hint()\n",
    "# step_4.solution()"
   ]
  },
  {
   "cell_type": "markdown",
   "id": "66f70495",
   "metadata": {
    "papermill": {
     "duration": 0.00856,
     "end_time": "2024-11-13T15:51:20.271036",
     "exception": false,
     "start_time": "2024-11-13T15:51:20.262476",
     "status": "completed"
    },
    "tags": []
   },
   "source": [
    "## Think About Your Results\n",
    "\n",
    "Use the `head` method to compare the top few predictions to the actual home values (in `y`) for those same homes. Anything surprising?\n"
   ]
  },
  {
   "cell_type": "code",
   "execution_count": 12,
   "id": "24e68e21",
   "metadata": {
    "execution": {
     "iopub.execute_input": "2024-11-13T15:51:20.290409Z",
     "iopub.status.busy": "2024-11-13T15:51:20.290030Z",
     "iopub.status.idle": "2024-11-13T15:51:20.296354Z",
     "shell.execute_reply": "2024-11-13T15:51:20.295447Z"
    },
    "papermill": {
     "duration": 0.019528,
     "end_time": "2024-11-13T15:51:20.299419",
     "exception": false,
     "start_time": "2024-11-13T15:51:20.279891",
     "status": "completed"
    },
    "tags": []
   },
   "outputs": [
    {
     "name": "stdout",
     "output_type": "stream",
     "text": [
      "0    208500\n",
      "1    181500\n",
      "2    223500\n",
      "3    140000\n",
      "4    250000\n",
      "Name: SalePrice, dtype: int64\n",
      "[208500. 181500. 223500. 140000. 250000.]\n"
     ]
    }
   ],
   "source": [
    "# You can write code in this cell\n",
    "print(y.head())\n",
    "print(predictions[:5])"
   ]
  },
  {
   "cell_type": "markdown",
   "id": "ef7585a2",
   "metadata": {
    "papermill": {
     "duration": 0.008657,
     "end_time": "2024-11-13T15:51:20.317075",
     "exception": false,
     "start_time": "2024-11-13T15:51:20.308418",
     "status": "completed"
    },
    "tags": []
   },
   "source": [
    "It's natural to ask how accurate the model's predictions will be and how you can improve that. That will be you're next step.\n",
    "\n",
    "# Keep Going\n",
    "\n",
    "You are ready for **[Model Validation](https://www.kaggle.com/dansbecker/model-validation).**\n"
   ]
  },
  {
   "cell_type": "markdown",
   "id": "95aa4bf1",
   "metadata": {
    "papermill": {
     "duration": 0.008384,
     "end_time": "2024-11-13T15:51:20.334225",
     "exception": false,
     "start_time": "2024-11-13T15:51:20.325841",
     "status": "completed"
    },
    "tags": []
   },
   "source": [
    "---\n",
    "\n",
    "\n",
    "\n",
    "\n",
    "*Have questions or comments? Visit the [course discussion forum](https://www.kaggle.com/learn/intro-to-machine-learning/discussion) to chat with other learners.*"
   ]
  }
 ],
 "metadata": {
  "kaggle": {
   "accelerator": "none",
   "dataSources": [
    {
     "databundleVersionId": 111096,
     "sourceId": 10211,
     "sourceType": "competition"
    },
    {
     "datasetId": 11167,
     "sourceId": 15520,
     "sourceType": "datasetVersion"
    },
    {
     "datasetId": 2709,
     "sourceId": 38454,
     "sourceType": "datasetVersion"
    }
   ],
   "isGpuEnabled": false,
   "isInternetEnabled": false,
   "language": "python",
   "sourceType": "notebook"
  },
  "kernelspec": {
   "display_name": "Python 3",
   "language": "python",
   "name": "python3"
  },
  "language_info": {
   "codemirror_mode": {
    "name": "ipython",
    "version": 3
   },
   "file_extension": ".py",
   "mimetype": "text/x-python",
   "name": "python",
   "nbconvert_exporter": "python",
   "pygments_lexer": "ipython3",
   "version": "3.10.14"
  },
  "papermill": {
   "default_parameters": {},
   "duration": 6.865624,
   "end_time": "2024-11-13T15:51:20.965832",
   "environment_variables": {},
   "exception": null,
   "input_path": "__notebook__.ipynb",
   "output_path": "__notebook__.ipynb",
   "parameters": {},
   "start_time": "2024-11-13T15:51:14.100208",
   "version": "2.6.0"
  }
 },
 "nbformat": 4,
 "nbformat_minor": 5
}
