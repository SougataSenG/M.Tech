{
  "cells": [
    {
      "cell_type": "markdown",
      "id": "b0919fe6-baea-4224-baa1-1c783893ce44",
      "metadata": {
        "id": "b0919fe6-baea-4224-baa1-1c783893ce44"
      },
      "source": [
        "## Name: Sougata Sen\n",
        "### Reg: 24-27-37\n",
        "### Course: M.Tech in Data Science"
      ]
    },
    {
      "cell_type": "markdown",
      "id": "74fd67a8-3ee3-45d0-9560-34a298e6a4ff",
      "metadata": {
        "id": "74fd67a8-3ee3-45d0-9560-34a298e6a4ff"
      },
      "source": [
        "# Question 1"
      ]
    },
    {
      "cell_type": "markdown",
      "id": "83e4b7ac",
      "metadata": {
        "id": "83e4b7ac"
      },
      "source": [
        "### (a)"
      ]
    },
    {
      "cell_type": "code",
      "execution_count": 1,
      "id": "43e132f8-8466-4d37-8db0-f5219af616ba",
      "metadata": {
        "colab": {
          "base_uri": "https://localhost:8080/"
        },
        "id": "43e132f8-8466-4d37-8db0-f5219af616ba",
        "outputId": "c9f3cad6-3514-40e4-fe64-ba4ba30d7ad8"
      },
      "outputs": [
        {
          "output_type": "stream",
          "name": "stdout",
          "text": [
            "[ 0  1  2  3  4  5  6  7  8  9 10 11 12 13 14 15 16 17 18 19 20 21 22 23\n",
            " 24 25 26 27 28 29]\n"
          ]
        },
        {
          "output_type": "execute_result",
          "data": {
            "text/plain": [
              "(30,)"
            ]
          },
          "metadata": {},
          "execution_count": 1
        }
      ],
      "source": [
        "import numpy as np\n",
        "\n",
        "var1 = np.arange(30)\n",
        "print(var1)\n",
        "var1.shape"
      ]
    },
    {
      "cell_type": "markdown",
      "id": "78082459",
      "metadata": {
        "id": "78082459"
      },
      "source": [
        "### (b)"
      ]
    },
    {
      "cell_type": "code",
      "execution_count": 2,
      "id": "40cec854-44e9-45cb-9e39-4cb73779d35f",
      "metadata": {
        "colab": {
          "base_uri": "https://localhost:8080/"
        },
        "id": "40cec854-44e9-45cb-9e39-4cb73779d35f",
        "outputId": "dc061ebc-ca8c-46a4-8b2c-05b4aaff69ae"
      },
      "outputs": [
        {
          "output_type": "stream",
          "name": "stdout",
          "text": [
            "[[ 0  1  2  3  4  5  6  7  8  9]\n",
            " [10 11 12 13 14 15 16 17 18 19]\n",
            " [20 21 22 23 24 25 26 27 28 29]]\n",
            "(3, 10)\n"
          ]
        }
      ],
      "source": [
        "var2 = var1.reshape(3,10)\n",
        "print(var2)\n",
        "print(var2.shape)"
      ]
    },
    {
      "cell_type": "markdown",
      "id": "21640b4e",
      "metadata": {
        "id": "21640b4e"
      },
      "source": [
        "### (c)"
      ]
    },
    {
      "cell_type": "code",
      "execution_count": 3,
      "id": "3fcc6b2e-12a6-4e22-9c98-f9c55f2e5557",
      "metadata": {
        "colab": {
          "base_uri": "https://localhost:8080/"
        },
        "id": "3fcc6b2e-12a6-4e22-9c98-f9c55f2e5557",
        "outputId": "ae6e0d16-cb59-4f86-878f-29dabc20e2e0"
      },
      "outputs": [
        {
          "output_type": "stream",
          "name": "stdout",
          "text": [
            "[[[ 0  1  2  3  4]\n",
            "  [ 5  6  7  8  9]\n",
            "  [10 11 12 13 14]]\n",
            "\n",
            " [[15 16 17 18 19]\n",
            "  [20 21 22 23 24]\n",
            "  [25 26 27 28 29]]]\n",
            "(2, 3, 5)\n"
          ]
        }
      ],
      "source": [
        "# creating array of size 2 with each element as array of 3x5\n",
        "var3 = var1.reshape(2,3,5)\n",
        "print(var3)\n",
        "print(var3.shape)"
      ]
    },
    {
      "cell_type": "code",
      "execution_count": 4,
      "id": "a5d124af-6002-4eff-a8d8-5b570d7992fd",
      "metadata": {
        "colab": {
          "base_uri": "https://localhost:8080/"
        },
        "id": "a5d124af-6002-4eff-a8d8-5b570d7992fd",
        "outputId": "83371629-8e41-413e-b2b9-1ccac9afa0df"
      },
      "outputs": [
        {
          "output_type": "stream",
          "name": "stdout",
          "text": [
            "[[ 0  1  2  3  4  5  6  7  8  9]\n",
            " [-1 11 12 13 14 15 16 17 18 19]\n",
            " [20 21 22 23 24 25 26 27 28 29]]\n"
          ]
        }
      ],
      "source": [
        "# (d)\n",
        "var2[1, 0] = -1\n",
        "print(var2)"
      ]
    },
    {
      "cell_type": "code",
      "execution_count": 5,
      "id": "11991049-dd9f-46a7-8f02-e646068c99e6",
      "metadata": {
        "colab": {
          "base_uri": "https://localhost:8080/"
        },
        "id": "11991049-dd9f-46a7-8f02-e646068c99e6",
        "outputId": "d768c71a-79e8-4cec-f7c4-b97c16d97d1c"
      },
      "outputs": [
        {
          "output_type": "stream",
          "name": "stdout",
          "text": [
            "var1: \n",
            " [ 0  1  2  3  4  5  6  7  8  9 -1 11 12 13 14 15 16 17 18 19 20 21 22 23\n",
            " 24 25 26 27 28 29]\n",
            "var3: \n",
            " [[[ 0  1  2  3  4]\n",
            "  [ 5  6  7  8  9]\n",
            "  [-1 11 12 13 14]]\n",
            "\n",
            " [[15 16 17 18 19]\n",
            "  [20 21 22 23 24]\n",
            "  [25 26 27 28 29]]]\n"
          ]
        }
      ],
      "source": [
        "# (d)\n",
        "print(\"var1: \\n\", var1)\n",
        "print(\"var3: \\n\", var3)"
      ]
    },
    {
      "cell_type": "markdown",
      "id": "f5aee61c-1bfc-47de-97d5-4f4970529a44",
      "metadata": {
        "id": "f5aee61c-1bfc-47de-97d5-4f4970529a44"
      },
      "source": [
        "# (d) explanation\n",
        "Clearly the value of var1 and var3 has also changed. This proves that the reshape function returns a view but not a copy. So when we changed the element in var2, the corresponding element in var1 and var3 also changed because on changing the element in var2, we actually changed the element in the original array i.e. var1 and hence it's all the reshaped variables will also change accordingly."
      ]
    },
    {
      "cell_type": "markdown",
      "id": "12bbccb8",
      "metadata": {
        "id": "12bbccb8"
      },
      "source": [
        "### (e)"
      ]
    },
    {
      "cell_type": "code",
      "execution_count": 6,
      "id": "8d5d938f-2ee4-49b2-b4d7-c373108d43d4",
      "metadata": {
        "colab": {
          "base_uri": "https://localhost:8080/"
        },
        "id": "8d5d938f-2ee4-49b2-b4d7-c373108d43d4",
        "outputId": "fb8d8b73-0201-4f21-8e45-5d72e1243799"
      },
      "outputs": [
        {
          "output_type": "stream",
          "name": "stdout",
          "text": [
            "Var3: \n",
            " [[[ 0  1  2  3  4]\n",
            "  [ 5  6  7  8  9]\n",
            "  [-1 11 12 13 14]]\n",
            "\n",
            " [[15 16 17 18 19]\n",
            "  [20 21 22 23 24]\n",
            "  [25 26 27 28 29]]]\n",
            "i. Sum of var3 over 2nd dimension:\n",
            " [[ 4 18 21 24 27]\n",
            " [60 63 66 69 72]]\n",
            "ii. Sum of var3 over 3rd dimension:\n",
            " [[ 10  35  49]\n",
            " [ 85 110 135]]\n",
            "iii. Sum of var3 over 1st and 3rd dimension:\n",
            " [ 95 145 184]\n"
          ]
        }
      ],
      "source": [
        "print(\"Var3: \\n\", var3)\n",
        "x = var3.sum(axis=1)\n",
        "y = var3.sum(axis=2)\n",
        "z = var3.sum(axis=(0, 2))\n",
        "print(\"i. Sum of var3 over 2nd dimension:\\n\", x)\n",
        "print(\"ii. Sum of var3 over 3rd dimension:\\n\", y)\n",
        "print(\"iii. Sum of var3 over 1st and 3rd dimension:\\n\",z)\n"
      ]
    },
    {
      "cell_type": "markdown",
      "id": "d29a8a35",
      "metadata": {
        "id": "d29a8a35"
      },
      "source": [
        "### (f)"
      ]
    },
    {
      "cell_type": "code",
      "execution_count": 7,
      "id": "8e262815",
      "metadata": {
        "colab": {
          "base_uri": "https://localhost:8080/"
        },
        "id": "8e262815",
        "outputId": "f65d7096-e1b0-4c63-abb9-e83a30165ac3"
      },
      "outputs": [
        {
          "output_type": "stream",
          "name": "stdout",
          "text": [
            "Var2:\n",
            " [[ 0  1  2  3  4  5  6  7  8  9]\n",
            " [-1 11 12 13 14 15 16 17 18 19]\n",
            " [20 21 22 23 24 25 26 27 28 29]]\n",
            "i. Second row:\n",
            " [[-1 11 12 13 14 15 16 17 18 19]]\n",
            "ii. last column:\n",
            " [ 9 19 29]\n",
            "iii. Top right 2x2 sub-matrix:\n",
            " [[ 8  9]\n",
            " [18 19]]\n"
          ]
        }
      ],
      "source": [
        "print(\"Var2:\\n\", var2)\n",
        "print(\"i. Second row:\\n\", var2[1:2])\n",
        "print(\"ii. last column:\\n\", var2[:,-1])\n",
        "print(\"iii. Top right 2x2 sub-matrix:\\n\", var2[:2, -2:])"
      ]
    },
    {
      "cell_type": "markdown",
      "id": "1d0441f9",
      "metadata": {
        "id": "1d0441f9"
      },
      "source": [
        "# Question2"
      ]
    },
    {
      "cell_type": "markdown",
      "id": "4e22341d",
      "metadata": {
        "id": "4e22341d"
      },
      "source": [
        "### (a)"
      ]
    },
    {
      "cell_type": "code",
      "execution_count": 8,
      "id": "18ee5a28",
      "metadata": {
        "colab": {
          "base_uri": "https://localhost:8080/"
        },
        "id": "18ee5a28",
        "outputId": "df40e142-b42c-49a1-cda7-4a5577d126e4"
      },
      "outputs": [
        {
          "output_type": "stream",
          "name": "stdout",
          "text": [
            "[0 1 2 3 4 5 6 7 8 9]\n",
            "[ 1  2  3  4  5  6  7  8  9 10]\n"
          ]
        }
      ],
      "source": [
        "ar = np.arange(0, 10)\n",
        "print(ar)\n",
        "vector_ar = ar + 1\n",
        "print(vector_ar)"
      ]
    },
    {
      "cell_type": "markdown",
      "id": "c9351359",
      "metadata": {
        "id": "c9351359"
      },
      "source": [
        "### (b)"
      ]
    },
    {
      "cell_type": "code",
      "execution_count": 9,
      "id": "f0589491",
      "metadata": {
        "colab": {
          "base_uri": "https://localhost:8080/"
        },
        "id": "f0589491",
        "outputId": "550e88aa-b890-4287-fc41-4dedb80f5559"
      },
      "outputs": [
        {
          "output_type": "stream",
          "name": "stdout",
          "text": [
            "[[ 0  1  2  3  4  5  6  7  8  9]\n",
            " [ 1  2  3  4  5  6  7  8  9 10]\n",
            " [ 2  3  4  5  6  7  8  9 10 11]\n",
            " [ 3  4  5  6  7  8  9 10 11 12]\n",
            " [ 4  5  6  7  8  9 10 11 12 13]\n",
            " [ 5  6  7  8  9 10 11 12 13 14]\n",
            " [ 6  7  8  9 10 11 12 13 14 15]\n",
            " [ 7  8  9 10 11 12 13 14 15 16]\n",
            " [ 8  9 10 11 12 13 14 15 16 17]\n",
            " [ 9 10 11 12 13 14 15 16 17 18]]\n"
          ]
        }
      ],
      "source": [
        "A = ar + ar.reshape(10,1)\n",
        "print(A)"
      ]
    },
    {
      "cell_type": "markdown",
      "id": "125156a3",
      "metadata": {
        "id": "125156a3"
      },
      "source": [
        "### (c)"
      ]
    },
    {
      "cell_type": "code",
      "execution_count": 10,
      "id": "b41af279",
      "metadata": {
        "id": "b41af279"
      },
      "outputs": [],
      "source": [
        "import numpy.random as npr\n",
        "data = np.exp(npr.randn(50, 5))"
      ]
    },
    {
      "cell_type": "markdown",
      "id": "4a3e666c",
      "metadata": {
        "id": "4a3e666c"
      },
      "source": [
        "### (d)"
      ]
    },
    {
      "cell_type": "code",
      "execution_count": 11,
      "id": "5eef3d38",
      "metadata": {
        "colab": {
          "base_uri": "https://localhost:8080/"
        },
        "id": "5eef3d38",
        "outputId": "89c900dd-d5a0-4107-e4f6-7d4965098b8b"
      },
      "outputs": [
        {
          "output_type": "stream",
          "name": "stdout",
          "text": [
            "[[ 0.87063366  1.9144133   0.82938996  2.53321452  0.76857993]\n",
            " [ 3.92847858  1.37580772  0.11723187  0.27242945  0.87405932]\n",
            " [ 4.4463871   9.49996579  1.13692283  1.79396178  3.27835853]\n",
            " [ 3.07373022  0.55094944  0.18511615  0.37051245  0.75167737]\n",
            " [ 0.65362745  4.72692901  1.06898739  0.52820324  5.07513338]\n",
            " [ 0.81564771  0.90409766  4.1451215   3.51540711  0.70952386]\n",
            " [ 4.35423537  0.06990459  1.21221248  1.55253677  0.44155843]\n",
            " [ 2.29782437  0.42757803  1.41949937  0.49084372  1.60893408]\n",
            " [ 0.07650025  2.06166319  0.57990996  2.49236813  0.38526056]\n",
            " [13.01362204  1.15006888  1.45047992  3.57073905  0.52414139]\n",
            " [ 0.20202897  0.49331919  1.32663411  3.02788962  1.02330897]\n",
            " [ 0.54802059  0.27710652  2.35770144  0.15016256  1.40163426]\n",
            " [ 0.16585465  1.54908124  3.23091617  0.92829674  1.74142859]\n",
            " [ 0.49778196  0.56975883  1.95900674  1.41479876  2.29042977]\n",
            " [ 0.803178    5.67651212  0.79591753  1.14473137  0.68460263]\n",
            " [ 0.30837759  2.27571353  0.40841372  0.28868774  5.39770398]\n",
            " [ 1.19269399  0.64705394  1.43018523  2.01885821  0.17996236]\n",
            " [ 0.67438508  3.77719264  2.96272987  0.91623708  0.44166707]\n",
            " [ 1.2410122   0.9436079   2.07970963  0.13722933  4.16085072]\n",
            " [ 4.63498929  1.79098513  0.14300244  1.05372877  1.1299685 ]\n",
            " [ 2.55700588  0.44282914  0.86951556  3.77407994  0.11858001]\n",
            " [ 2.77559403  8.41723242  0.70978063  0.55749443  0.36221669]\n",
            " [ 1.62584297  0.09458524  2.9332526   0.52255632  3.23399071]\n",
            " [ 0.7508628   1.01947727 14.25558368  0.29365171  1.19337541]\n",
            " [ 0.75068452  2.40679656  2.06187771  2.42135609  0.38314488]\n",
            " [ 0.69346189  4.15156977  1.44316034  0.39904308  1.62084372]\n",
            " [ 1.08804293  3.35592868  0.35632188  0.80572698  0.73063306]\n",
            " [ 0.14110525  2.26905054  1.53584298  2.26993404  0.74776532]\n",
            " [ 0.83717721  0.41202894  0.14849245  0.75240177  2.22571268]\n",
            " [ 1.60212504  4.03876226  1.71536608  2.19711582  0.41034145]\n",
            " [ 0.433933    5.24034773  0.32365027  0.13199215  5.82399687]\n",
            " [ 1.46024923  0.30360813  1.22415231  0.45810271  1.38968162]\n",
            " [ 0.42232061  0.88819769  1.47478773  0.5305592   1.1281457 ]\n",
            " [ 3.49006841  1.37021883  1.18741107  1.54205598  0.70628732]\n",
            " [ 3.1788983   9.78037937  0.57724399  0.85492395  1.95681544]\n",
            " [ 2.41953953  0.39198954  0.78349203  0.27296357  0.30882938]\n",
            " [ 6.05746794  2.06291857  1.19592406  2.11435764  0.27563587]\n",
            " [ 0.80645929  1.82670463  1.10441622  1.88338601  0.79804098]\n",
            " [ 2.05807481  0.97417498  0.582837    0.13855995  1.47747619]\n",
            " [ 0.13275705  0.73560251  5.24970583  1.8002062   1.27309032]\n",
            " [ 0.86457114  0.58420699  1.96536297  1.41546087  0.99352818]\n",
            " [ 2.59746823  0.41079854  0.6508644   0.59342205  2.1432677 ]\n",
            " [ 0.42468504  1.14250983  0.43557032  3.32209109  0.67315682]\n",
            " [ 0.62592902  1.5611233   0.73463838  3.80383634  0.19964315]\n",
            " [ 1.23996608  0.37224435  3.18791507  0.15784448  1.92726626]\n",
            " [ 0.52210835  1.20542051  2.49974742  1.76709857  0.68126363]\n",
            " [ 1.29143714  0.86501821  6.90673165  1.05034219  0.35304123]\n",
            " [ 2.59524968  0.32271392  0.84502591  0.44330559  0.85163143]\n",
            " [ 0.33520167  3.44503838  1.22486127  2.13244636  4.91119858]\n",
            " [ 0.54706646  0.05828028  0.17906475  0.26191471  9.00176757]]\n"
          ]
        }
      ],
      "source": [
        "print(data)"
      ]
    },
    {
      "cell_type": "markdown",
      "id": "fb740812",
      "metadata": {
        "id": "fb740812"
      },
      "source": [
        "### (e)"
      ]
    },
    {
      "cell_type": "code",
      "execution_count": 12,
      "id": "287b7c4c",
      "metadata": {
        "colab": {
          "base_uri": "https://localhost:8080/"
        },
        "id": "287b7c4c",
        "outputId": "2aa7d259-ee90-4c7a-e1f0-02e71a13b884"
      },
      "outputs": [
        {
          "output_type": "stream",
          "name": "stdout",
          "text": [
            "Mean:\n",
            " [1.76248725 2.01662931 1.7440337  1.33738132 1.61538304]\n",
            "Standard Deviation:\n",
            " [2.12100253 2.29180175 2.2121953  1.07875404 1.75901322]\n"
          ]
        }
      ],
      "source": [
        "mean_column = data.mean(axis=0)\n",
        "sd_column = data.std(axis=0)\n",
        "print(\"Mean:\\n\",mean_column)\n",
        "print(\"Standard Deviation:\\n\",sd_column)"
      ]
    },
    {
      "cell_type": "markdown",
      "id": "5ced4a48",
      "metadata": {
        "id": "5ced4a48"
      },
      "source": [
        "### (f)"
      ]
    },
    {
      "cell_type": "code",
      "execution_count": 14,
      "id": "897e7329",
      "metadata": {
        "colab": {
          "base_uri": "https://localhost:8080/"
        },
        "id": "897e7329",
        "outputId": "9acdd357-b57d-4a88-b5ad-26f32eb11d63"
      },
      "outputs": [
        {
          "output_type": "stream",
          "name": "stdout",
          "text": [
            "Mean of the normalized matrix:\n",
            " [2.04281037e-16 1.06581410e-16 8.88178420e-18 2.44249065e-16\n",
            " 8.88178420e-17]\n",
            "Standard Deviation of the normalized matrix:\n",
            " [1. 1. 1. 1. 1.]\n"
          ]
        }
      ],
      "source": [
        "normalized = (data-mean_column)/sd_column\n",
        "normalized_mean = normalized.mean(axis=0)\n",
        "normalized_sd = normalized.std(axis=0)\n",
        "print(\"Mean of the normalized matrix:\\n\",normalized_mean)\n",
        "print(\"Standard Deviation of the normalized matrix:\\n\", normalized_sd)"
      ]
    },
    {
      "cell_type": "markdown",
      "id": "786c6ed2",
      "metadata": {
        "id": "786c6ed2"
      },
      "source": [
        "# Question 3"
      ]
    },
    {
      "cell_type": "markdown",
      "id": "1ed0c100",
      "metadata": {
        "id": "1ed0c100"
      },
      "source": [
        "### (a)"
      ]
    },
    {
      "cell_type": "code",
      "execution_count": 16,
      "id": "995d8fc3",
      "metadata": {
        "colab": {
          "base_uri": "https://localhost:8080/"
        },
        "id": "995d8fc3",
        "outputId": "bd16aab4-d8b3-4bb4-804f-952bf99884b4"
      },
      "outputs": [
        {
          "output_type": "stream",
          "name": "stdout",
          "text": [
            "[[           1            1            1            1            1\n",
            "             1            1            1            1            1\n",
            "             1            1]\n",
            " [           1            2            4            8           16\n",
            "            32           64          128          256          512\n",
            "          1024         2048]\n",
            " [           1            3            9           27           81\n",
            "           243          729         2187         6561        19683\n",
            "         59049       177147]\n",
            " [           1            4           16           64          256\n",
            "          1024         4096        16384        65536       262144\n",
            "       1048576      4194304]\n",
            " [           1            5           25          125          625\n",
            "          3125        15625        78125       390625      1953125\n",
            "       9765625     48828125]\n",
            " [           1            6           36          216         1296\n",
            "          7776        46656       279936      1679616     10077696\n",
            "      60466176    362797056]\n",
            " [           1            7           49          343         2401\n",
            "         16807       117649       823543      5764801     40353607\n",
            "     282475249   1977326743]\n",
            " [           1            8           64          512         4096\n",
            "         32768       262144      2097152     16777216    134217728\n",
            "    1073741824   8589934592]\n",
            " [           1            9           81          729         6561\n",
            "         59049       531441      4782969     43046721    387420489\n",
            "    3486784401  31381059609]\n",
            " [           1           10          100         1000        10000\n",
            "        100000      1000000     10000000    100000000   1000000000\n",
            "   10000000000 100000000000]\n",
            " [           1           11          121         1331        14641\n",
            "        161051      1771561     19487171    214358881   2357947691\n",
            "   25937424601 285311670611]\n",
            " [           1           12          144         1728        20736\n",
            "        248832      2985984     35831808    429981696   5159780352\n",
            "   61917364224 743008370688]]\n"
          ]
        }
      ],
      "source": [
        "def vandermonde(N):\n",
        "    vec = np.arange(N) + 1\n",
        "    V = vec.reshape(N, 1) ** np.arange(N)\n",
        "    return V\n",
        "\n",
        "vander = vandermonde(12)\n",
        "print(vander)"
      ]
    },
    {
      "cell_type": "markdown",
      "source": [
        "### (b)"
      ],
      "metadata": {
        "id": "fP08gwHLesVW"
      },
      "id": "fP08gwHLesVW"
    },
    {
      "cell_type": "code",
      "source": [
        "x = np.ones(12)\n",
        "print(\"x:\\n\", x)\n",
        "b = vander.dot(x)\n",
        "print(\"b:\\n\", b)"
      ],
      "metadata": {
        "colab": {
          "base_uri": "https://localhost:8080/"
        },
        "id": "uCYOkicNeu4t",
        "outputId": "c6290b13-7c3a-4bf2-9340-c7498de03da4"
      },
      "id": "uCYOkicNeu4t",
      "execution_count": 18,
      "outputs": [
        {
          "output_type": "stream",
          "name": "stdout",
          "text": [
            "x:\n",
            " [1. 1. 1. 1. 1. 1. 1. 1. 1. 1. 1. 1.]\n",
            "b:\n",
            " [1.20000000e+01 4.09500000e+03 2.65720000e+05 5.59240500e+06\n",
            " 6.10351560e+07 4.35356467e+08 2.30688120e+09 9.81706810e+09\n",
            " 3.53036921e+10 1.11111111e+11 3.13842838e+11 8.10554586e+11]\n"
          ]
        }
      ]
    },
    {
      "cell_type": "markdown",
      "source": [
        "### (c)"
      ],
      "metadata": {
        "id": "gxBJsNgbe1yu"
      },
      "id": "gxBJsNgbe1yu"
    },
    {
      "cell_type": "code",
      "source": [
        "import numpy.linalg as lalg\n",
        "v_invert = lalg.inv(vander)\n",
        "res = np.dot(v_invert, b)\n",
        "print(res)"
      ],
      "metadata": {
        "colab": {
          "base_uri": "https://localhost:8080/"
        },
        "id": "WCOPvad2e0Zd",
        "outputId": "75762133-d063-43ae-df75-72370028becc"
      },
      "id": "WCOPvad2e0Zd",
      "execution_count": 20,
      "outputs": [
        {
          "output_type": "stream",
          "name": "stdout",
          "text": [
            "[-12.26953125   5.90625     15.421875    -6.03515625   2.05859375\n",
            "   0.92675781   1.00244141   1.00010681   0.99997711   1.00000131\n",
            "   0.99999996   1.        ]\n"
          ]
        }
      ]
    },
    {
      "cell_type": "markdown",
      "source": [
        "The expected outcome was a vector of all element to be equal to 1. Although Most of the results are equal to or nearer to 1, but some of the elements have differed much."
      ],
      "metadata": {
        "id": "6mTot5OpfIQV"
      },
      "id": "6mTot5OpfIQV"
    },
    {
      "cell_type": "markdown",
      "source": [
        "### (d)"
      ],
      "metadata": {
        "id": "57-YXyPHfS1v"
      },
      "id": "57-YXyPHfS1v"
    },
    {
      "cell_type": "code",
      "source": [
        "res2 = lalg.solve(vander, b)\n",
        "print(res2)"
      ],
      "metadata": {
        "colab": {
          "base_uri": "https://localhost:8080/"
        },
        "id": "sKK4Ywwhe7jl",
        "outputId": "738265ea-c67c-4cc3-e422-4d04a708cc7f"
      },
      "id": "sKK4Ywwhe7jl",
      "execution_count": 21,
      "outputs": [
        {
          "output_type": "stream",
          "name": "stdout",
          "text": [
            "[0.98080503 1.05139768 0.94513807 1.03151945 0.98899166 1.00248816\n",
            " 0.99962407 1.0000384  0.99999737 1.00000012 1.         1.        ]\n"
          ]
        }
      ]
    },
    {
      "cell_type": "markdown",
      "source": [
        "All the Vector elements are either 1 or close to it."
      ],
      "metadata": {
        "id": "UyH-9bv3fjEF"
      },
      "id": "UyH-9bv3fjEF"
    },
    {
      "cell_type": "markdown",
      "source": [
        "GitHub Link:\n",
        "https://github.com/SougataSenG/SougataSen_24-27-37.git"
      ],
      "metadata": {
        "id": "6jMhbTdpfnaS"
      },
      "id": "6jMhbTdpfnaS"
    }
  ],
  "metadata": {
    "kernelspec": {
      "display_name": "Python 3",
      "language": "python",
      "name": "python3"
    },
    "language_info": {
      "codemirror_mode": {
        "name": "ipython",
        "version": 3
      },
      "file_extension": ".py",
      "mimetype": "text/x-python",
      "name": "python",
      "nbconvert_exporter": "python",
      "pygments_lexer": "ipython3",
      "version": "3.12.5"
    },
    "colab": {
      "provenance": []
    }
  },
  "nbformat": 4,
  "nbformat_minor": 5
}